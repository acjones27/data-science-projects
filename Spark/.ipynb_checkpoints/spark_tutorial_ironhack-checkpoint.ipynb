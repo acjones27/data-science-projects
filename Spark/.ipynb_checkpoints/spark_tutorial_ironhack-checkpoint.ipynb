{
 "cells": [
  {
   "cell_type": "code",
   "execution_count": 15,
   "metadata": {},
   "outputs": [],
   "source": [
    "from pyspark.sql.types import IntegerType"
   ]
  },
  {
   "cell_type": "code",
   "execution_count": 1,
   "metadata": {},
   "outputs": [],
   "source": [
    "from pyspark.sql import SparkSession\n",
    "spark = SparkSession.builder.appName(\"SimpleApp\").getOrCreate()"
   ]
  },
  {
   "cell_type": "code",
   "execution_count": 3,
   "metadata": {},
   "outputs": [
    {
     "name": "stdout",
     "output_type": "stream",
     "text": [
      "+------+\n",
      "|my_col|\n",
      "+------+\n",
      "| hello|\n",
      "+------+\n",
      "\n"
     ]
    }
   ],
   "source": [
    "spark.sql(\"SELECT 'hello' as my_col\").show()"
   ]
  },
  {
   "cell_type": "code",
   "execution_count": 86,
   "metadata": {},
   "outputs": [],
   "source": [
    "# df = spark.read.format(\"csv\").option(\"header\", \"true\").load(\"Pokemon.csv\")\n",
    "df = spark.read.csv(\"Pokemon.csv\", header = True)"
   ]
  },
  {
   "cell_type": "code",
   "execution_count": 88,
   "metadata": {},
   "outputs": [],
   "source": [
    "# Name of pokemon that has better attack\n",
    "df = df.withColumn(\"Attack\", df[\"Attack\"].cast(IntegerType()))"
   ]
  },
  {
   "cell_type": "code",
   "execution_count": 89,
   "metadata": {},
   "outputs": [],
   "source": [
    "sel = df.select(df[\"Type 1\"], df[\"Name\"], df[\"Attack\"].astype(IntegerType()))"
   ]
  },
  {
   "cell_type": "code",
   "execution_count": 90,
   "metadata": {},
   "outputs": [
    {
     "name": "stdout",
     "output_type": "stream",
     "text": [
      "+-------+--------------------+------+\n",
      "| Type 1|                Name|Attack|\n",
      "+-------+--------------------+------+\n",
      "|Psychic| MewtwoMega Mewtwo X|   190|\n",
      "|    Bug|HeracrossMega Her...|   185|\n",
      "|Psychic|  DeoxysAttack Forme|   180|\n",
      "| Dragon|RayquazaMega Rayq...|   180|\n",
      "| Ground|GroudonPrimal Gro...|   180|\n",
      "+-------+--------------------+------+\n",
      "\n"
     ]
    }
   ],
   "source": [
    "sel.orderBy(sel[\"Attack\"].desc()).limit(5).show()"
   ]
  },
  {
   "cell_type": "code",
   "execution_count": 53,
   "metadata": {},
   "outputs": [
    {
     "name": "stdout",
     "output_type": "stream",
     "text": [
      "+---+--------------------+-------+--------+-----+---+------+-------+-------+-------+-----+----------+---------+\n",
      "|  #|                Name| Type 1|  Type 2|Total| HP|Attack|Defense|Sp. Atk|Sp. Def|Speed|Generation|Legendary|\n",
      "+---+--------------------+-------+--------+-----+---+------+-------+-------+-------+-----+----------+---------+\n",
      "|150| MewtwoMega Mewtwo X|Psychic|Fighting|  780|106|   190|    100|    154|    100|  130|         1|     True|\n",
      "|214|HeracrossMega Her...|    Bug|Fighting|  600| 80|   185|    115|     40|    105|   75|         2|    False|\n",
      "|386|  DeoxysAttack Forme|Psychic|    null|  600| 50|   180|     20|    180|     20|  150|         3|     True|\n",
      "|384|RayquazaMega Rayq...| Dragon|  Flying|  780|105|   180|    100|    180|    100|  115|         3|     True|\n",
      "|383|GroudonPrimal Gro...| Ground|    Fire|  770|100|   180|    160|    150|     90|   90|         3|     True|\n",
      "+---+--------------------+-------+--------+-----+---+------+-------+-------+-------+-----+----------+---------+\n",
      "\n"
     ]
    }
   ],
   "source": [
    "top_5 = df.orderBy(\"Attack\", ascending = False).limit(5) \n",
    "# NOTE: if you put .show() at the end of the line above, you will see the data frame \n",
    "# but when you assign it to top_5 you're assigning the show which is temporary\n",
    "# To assign, you need to remove the .show()\n",
    "\n",
    "top_5.show()"
   ]
  },
  {
   "cell_type": "code",
   "execution_count": 25,
   "metadata": {},
   "outputs": [
    {
     "name": "stdout",
     "output_type": "stream",
     "text": [
      "+--------+-----+\n",
      "|  Type 1|count|\n",
      "+--------+-----+\n",
      "|   Water|  112|\n",
      "|  Normal|   98|\n",
      "|   Grass|   70|\n",
      "|     Bug|   69|\n",
      "| Psychic|   57|\n",
      "|    Fire|   52|\n",
      "|    Rock|   44|\n",
      "|Electric|   44|\n",
      "|   Ghost|   32|\n",
      "|  Dragon|   32|\n",
      "|  Ground|   32|\n",
      "|    Dark|   31|\n",
      "|  Poison|   28|\n",
      "|Fighting|   27|\n",
      "|   Steel|   27|\n",
      "|     Ice|   24|\n",
      "|   Fairy|   17|\n",
      "|  Flying|    4|\n",
      "+--------+-----+\n",
      "\n"
     ]
    }
   ],
   "source": [
    "df.groupBy(\"Type 1\").count().orderBy(\"count\", ascending = False).show()"
   ]
  },
  {
   "cell_type": "code",
   "execution_count": 29,
   "metadata": {},
   "outputs": [
    {
     "name": "stdout",
     "output_type": "stream",
     "text": [
      "+--------------------+\n",
      "|                Name|\n",
      "+--------------------+\n",
      "|           Bulbasaur|\n",
      "|             Ivysaur|\n",
      "|            Venusaur|\n",
      "|VenusaurMega Venu...|\n",
      "|          Charmander|\n",
      "+--------------------+\n",
      "\n"
     ]
    }
   ],
   "source": [
    "df.select(\"Name\").limit(5).show()"
   ]
  },
  {
   "cell_type": "code",
   "execution_count": 35,
   "metadata": {},
   "outputs": [
    {
     "name": "stdout",
     "output_type": "stream",
     "text": [
      "+----------+-----+\n",
      "|Big Attack|count|\n",
      "+----------+-----+\n",
      "|      true|  210|\n",
      "|     false|  590|\n",
      "+----------+-----+\n",
      "\n"
     ]
    }
   ],
   "source": [
    "df.select((df['Attack'] > 99).alias(\"Big Attack\")).groupBy(\"Big Attack\").count().show()"
   ]
  },
  {
   "cell_type": "code",
   "execution_count": 36,
   "metadata": {},
   "outputs": [
    {
     "name": "stdout",
     "output_type": "stream",
     "text": [
      "+-------+------------------+----------------+------+------+------------------+------------------+-----------------+------------------+----------------+-----------------+------------------+------------------+---------+\n",
      "|summary|                 #|            Name|Type 1|Type 2|             Total|                HP|           Attack|           Defense|         Sp. Atk|          Sp. Def|             Speed|        Generation|Legendary|\n",
      "+-------+------------------+----------------+------+------+------------------+------------------+-----------------+------------------+----------------+-----------------+------------------+------------------+---------+\n",
      "|  count|               800|             800|   800|   414|               800|               800|              800|               800|             800|              800|               800|               800|      800|\n",
      "|   mean|         362.81375|            null|  null|  null|          435.1025|          69.25875|         79.00125|           73.8425|           72.82|          71.9025|           68.2775|           3.32375|     null|\n",
      "| stddev|208.34379756406656|            null|  null|  null|119.96303975551908|25.534669032332076|32.45736586949845|31.183500559332924|32.7222941688016|27.82891579711746|29.060473717161447|1.6612904004849451|     null|\n",
      "|    min|                 1|       Abomasnow|   Bug|   Bug|               180|                 1|                5|                10|              10|              100|                10|                 1|    False|\n",
      "|    max|                99|Zygarde50% Forme| Water| Water|               780|                99|              190|                99|              99|               99|                99|                 6|     True|\n",
      "+-------+------------------+----------------+------+------+------------------+------------------+-----------------+------------------+----------------+-----------------+------------------+------------------+---------+\n",
      "\n"
     ]
    }
   ],
   "source": [
    "df.describe().show()"
   ]
  },
  {
   "cell_type": "code",
   "execution_count": 52,
   "metadata": {},
   "outputs": [],
   "source": [
    "top_5.write.csv(\"top_5_pokemon.csv\")"
   ]
  },
  {
   "cell_type": "code",
   "execution_count": 50,
   "metadata": {},
   "outputs": [],
   "source": [
    "top_5.toPandas().to_csv('top_5_pokemon_file.csv')"
   ]
  },
  {
   "cell_type": "code",
   "execution_count": null,
   "metadata": {},
   "outputs": [],
   "source": []
  },
  {
   "cell_type": "code",
   "execution_count": 56,
   "metadata": {},
   "outputs": [],
   "source": [
    "from pyspark.sql.window import Window\n",
    "from pyspark.sql.functions import rank, col\n",
    "\n",
    "window = Window.partitionBy(df['Type 1']).orderBy(df['Attack'].desc())"
   ]
  },
  {
   "cell_type": "code",
   "execution_count": 68,
   "metadata": {
    "scrolled": true
   },
   "outputs": [
    {
     "name": "stdout",
     "output_type": "stream",
     "text": [
      "+--------+-------------------------+------+----+\n",
      "|Type 1  |Name                     |Attack|rank|\n",
      "+--------+-------------------------+------+----+\n",
      "|Water   |GyaradosMega Gyarados    |155   |1   |\n",
      "|Water   |SwampertMega Swampert    |150   |2   |\n",
      "|Water   |KyogrePrimal Kyogre      |150   |2   |\n",
      "|Water   |SharpedoMega Sharpedo    |140   |4   |\n",
      "|Water   |Kingler                  |130   |5   |\n",
      "|Poison  |Toxicroak                |106   |1   |\n",
      "|Poison  |Muk                      |105   |2   |\n",
      "|Poison  |Nidoking                 |102   |3   |\n",
      "|Poison  |Seviper                  |100   |4   |\n",
      "|Poison  |Garbodor                 |95    |5   |\n",
      "|Steel   |AegislashBlade Forme     |150   |1   |\n",
      "|Steel   |MetagrossMega Metagross  |145   |2   |\n",
      "|Steel   |AggronMega Aggron        |140   |3   |\n",
      "|Steel   |Metagross                |135   |4   |\n",
      "|Steel   |SteelixMega Steelix      |125   |5   |\n",
      "|Rock    |Rampardos                |165   |1   |\n",
      "|Rock    |TyranitarMega Tyranitar  |164   |2   |\n",
      "|Rock    |DiancieMega Diancie      |160   |3   |\n",
      "|Rock    |Archeops                 |140   |4   |\n",
      "|Rock    |AerodactylMega Aerodactyl|135   |5   |\n",
      "|Rock    |Gigalith                 |135   |5   |\n",
      "|Ice     |Mamoswine                |130   |1   |\n",
      "|Ice     |GlalieMega Glalie        |120   |2   |\n",
      "|Ice     |Avalugg                  |117   |3   |\n",
      "|Ice     |Beartic                  |110   |4   |\n",
      "|Ice     |Piloswine                |100   |5   |\n",
      "|Ghost   |BanetteMega Banette      |165   |1   |\n",
      "|Ghost   |GiratinaOrigin Forme     |120   |2   |\n",
      "|Ghost   |Banette                  |115   |3   |\n",
      "|Ghost   |Trevenant                |110   |4   |\n",
      "|Ghost   |Dusknoir                 |100   |5   |\n",
      "|Ghost   |GiratinaAltered Forme    |100   |5   |\n",
      "|Ghost   |GourgeistSuper Size      |100   |5   |\n",
      "|Fairy   |Xerneas                  |131   |1   |\n",
      "|Fairy   |Granbull                 |120   |2   |\n",
      "|Fairy   |Snubbull                 |80    |3   |\n",
      "|Fairy   |Slurpuff                 |80    |3   |\n",
      "|Fairy   |Aromatisse               |72    |5   |\n",
      "|Psychic |MewtwoMega Mewtwo X      |190   |1   |\n",
      "|Psychic |DeoxysAttack Forme       |180   |2   |\n",
      "|Psychic |GalladeMega Gallade      |165   |3   |\n",
      "|Psychic |HoopaHoopa Unbound       |160   |4   |\n",
      "|Psychic |MewtwoMega Mewtwo Y      |150   |5   |\n",
      "|Psychic |DeoxysNormal Forme       |150   |5   |\n",
      "|Dragon  |RayquazaMega Rayquaza    |180   |1   |\n",
      "|Dragon  |GarchompMega Garchomp    |170   |2   |\n",
      "|Dragon  |KyuremBlack Kyurem       |170   |2   |\n",
      "|Dragon  |Rayquaza                 |150   |4   |\n",
      "|Dragon  |Zekrom                   |150   |4   |\n",
      "|Flying  |TornadusIncarnate Forme  |115   |1   |\n",
      "|Flying  |TornadusTherian Forme    |100   |2   |\n",
      "|Flying  |Noivern                  |70    |3   |\n",
      "|Flying  |Noibat                   |30    |4   |\n",
      "|Bug     |HeracrossMega Heracross  |185   |1   |\n",
      "|Bug     |PinsirMega Pinsir        |155   |2   |\n",
      "|Bug     |BeedrillMega Beedrill    |150   |3   |\n",
      "|Bug     |ScizorMega Scizor        |150   |3   |\n",
      "|Bug     |Escavalier               |135   |5   |\n",
      "|Electric|Electivire               |123   |1   |\n",
      "|Electric|Luxray                   |120   |2   |\n",
      "|Electric|Eelektross               |115   |3   |\n",
      "|Electric|ThundurusIncarnate Forme |115   |3   |\n",
      "|Electric|ThundurusTherian Forme   |105   |5   |\n",
      "|Fire    |BlazikenMega Blaziken    |160   |1   |\n",
      "|Fire    |DarmanitanStandard Mode  |140   |2   |\n",
      "|Fire    |CharizardMega Charizard X|130   |3   |\n",
      "|Fire    |Flareon                  |130   |3   |\n",
      "|Fire    |Ho-oh                    |130   |3   |\n",
      "|Ground  |GroudonPrimal Groudon    |180   |1   |\n",
      "|Ground  |Groudon                  |150   |2   |\n",
      "|Ground  |LandorusTherian Forme    |145   |3   |\n",
      "|Ground  |Rhyperior                |140   |4   |\n",
      "|Ground  |Excadrill                |135   |5   |\n",
      "|Dark    |AbsolMega Absol          |150   |1   |\n",
      "|Dark    |Yveltal                  |131   |2   |\n",
      "|Dark    |Absol                    |130   |3   |\n",
      "|Dark    |Honchkrow                |125   |4   |\n",
      "|Dark    |Bisharp                  |125   |4   |\n",
      "|Fighting|LucarioMega Lucario      |145   |1   |\n",
      "|Fighting|Conkeldurr               |140   |2   |\n",
      "|Fighting|Machamp                  |130   |3   |\n",
      "|Fighting|Sawk                     |125   |4   |\n",
      "|Fighting|Mienshao                 |125   |4   |\n",
      "|Grass   |AbomasnowMega Abomasnow  |132   |1   |\n",
      "|Grass   |Breloom                  |130   |2   |\n",
      "|Grass   |Cacturne                 |115   |3   |\n",
      "|Grass   |SceptileMega Sceptile    |110   |4   |\n",
      "|Grass   |Leafeon                  |110   |4   |\n",
      "|Normal  |Slaking                  |160   |1   |\n",
      "|Normal  |Regigigas                |160   |1   |\n",
      "|Normal  |LopunnyMega Lopunny      |136   |3   |\n",
      "|Normal  |Ursaring                 |130   |4   |\n",
      "|Normal  |MeloettaPirouette Forme  |128   |5   |\n",
      "+--------+-------------------------+------+----+\n",
      "\n"
     ]
    }
   ],
   "source": [
    "top_5_type = df.select('*', rank().over(window).alias('rank')).filter(col('rank') <= 5).\\\n",
    "    select(\"Type 1\", \"Name\", \"Attack\", \"rank\")\n",
    "top_5_type.show(100, truncate = False) "
   ]
  },
  {
   "cell_type": "code",
   "execution_count": 69,
   "metadata": {},
   "outputs": [],
   "source": [
    "top_5_type.toPandas().to_csv('top_5_type_pokemon_file.csv')"
   ]
  },
  {
   "cell_type": "code",
   "execution_count": 70,
   "metadata": {},
   "outputs": [
    {
     "name": "stdout",
     "output_type": "stream",
     "text": [
      "root\n",
      " |-- #: string (nullable = true)\n",
      " |-- Name: string (nullable = true)\n",
      " |-- Type 1: string (nullable = true)\n",
      " |-- Type 2: string (nullable = true)\n",
      " |-- Total: string (nullable = true)\n",
      " |-- HP: string (nullable = true)\n",
      " |-- Attack: integer (nullable = true)\n",
      " |-- Defense: string (nullable = true)\n",
      " |-- Sp. Atk: string (nullable = true)\n",
      " |-- Sp. Def: string (nullable = true)\n",
      " |-- Speed: string (nullable = true)\n",
      " |-- Generation: string (nullable = true)\n",
      " |-- Legendary: string (nullable = true)\n",
      "\n"
     ]
    }
   ],
   "source": [
    "df.printSchema()"
   ]
  },
  {
   "cell_type": "code",
   "execution_count": 79,
   "metadata": {},
   "outputs": [
    {
     "name": "stdout",
     "output_type": "stream",
     "text": [
      "+--------------------+------+-----+\n",
      "|                name|attack| type|\n",
      "+--------------------+------+-----+\n",
      "|           Bulbasaur|    49|Grass|\n",
      "|             Ivysaur|    62|Grass|\n",
      "|            Venusaur|    82|Grass|\n",
      "|VenusaurMega Venu...|   100|Grass|\n",
      "|          Charmander|    52| Fire|\n",
      "|          Charmeleon|    64| Fire|\n",
      "|           Charizard|    84| Fire|\n",
      "|CharizardMega Cha...|   130| Fire|\n",
      "|CharizardMega Cha...|   104| Fire|\n",
      "|            Squirtle|    48|Water|\n",
      "|           Wartortle|    63|Water|\n",
      "|           Blastoise|    83|Water|\n",
      "|BlastoiseMega Bla...|   103|Water|\n",
      "|            Caterpie|    30|  Bug|\n",
      "|             Metapod|    20|  Bug|\n",
      "|          Butterfree|    45|  Bug|\n",
      "|              Weedle|    35|  Bug|\n",
      "|              Kakuna|    25|  Bug|\n",
      "|            Beedrill|    90|  Bug|\n",
      "|BeedrillMega Beed...|   150|  Bug|\n",
      "+--------------------+------+-----+\n",
      "only showing top 20 rows\n",
      "\n"
     ]
    }
   ],
   "source": [
    "# Seems like another possible solution rather than use the window function is to make a temp table\n",
    "\n",
    "from pyspark.sql.functions import col\n",
    "\n",
    "table = df.select(col(\"Name\").alias(\"name\"), col(\"Attack\").alias(\"attack\"), col(\"Type 1\").alias(\"type\"))\n",
    "table.registerTempTable(\"table\")\n",
    "table.show()"
   ]
  },
  {
   "cell_type": "code",
   "execution_count": 83,
   "metadata": {},
   "outputs": [
    {
     "name": "stdout",
     "output_type": "stream",
     "text": [
      "+------+--------------------+----+\n",
      "|  type|                name|rank|\n",
      "+------+--------------------+----+\n",
      "| Water|GyaradosMega Gyar...|   1|\n",
      "| Water|SwampertMega Swam...|   2|\n",
      "| Water| KyogrePrimal Kyogre|   2|\n",
      "| Water|SharpedoMega Shar...|   4|\n",
      "| Water|             Kingler|   5|\n",
      "|Poison|           Toxicroak|   1|\n",
      "|Poison|                 Muk|   2|\n",
      "|Poison|            Nidoking|   3|\n",
      "|Poison|             Seviper|   4|\n",
      "|Poison|            Garbodor|   5|\n",
      "| Steel|AegislashBlade Forme|   1|\n",
      "| Steel|MetagrossMega Met...|   2|\n",
      "| Steel|   AggronMega Aggron|   3|\n",
      "| Steel|           Metagross|   4|\n",
      "| Steel| SteelixMega Steelix|   5|\n",
      "|  Rock|           Rampardos|   1|\n",
      "|  Rock|TyranitarMega Tyr...|   2|\n",
      "|  Rock| DiancieMega Diancie|   3|\n",
      "|  Rock|            Archeops|   4|\n",
      "|  Rock|AerodactylMega Ae...|   5|\n",
      "+------+--------------------+----+\n",
      "only showing top 20 rows\n",
      "\n"
     ]
    }
   ],
   "source": [
    "top_5_type_temp_table = spark.sql('with my_ranks as (\\\n",
    "           select *, rank() over (partition by type order by attack desc) as rank from table)\\\n",
    "           select type, name, rank from my_ranks\\\n",
    "           where rank <= 5')\n",
    "top_5_type_temp_table.show()"
   ]
  },
  {
   "cell_type": "code",
   "execution_count": null,
   "metadata": {},
   "outputs": [],
   "source": []
  }
 ],
 "metadata": {
  "kernelspec": {
   "display_name": "Python 3",
   "language": "python",
   "name": "python3"
  },
  "language_info": {
   "codemirror_mode": {
    "name": "ipython",
    "version": 3
   },
   "file_extension": ".py",
   "mimetype": "text/x-python",
   "name": "python",
   "nbconvert_exporter": "python",
   "pygments_lexer": "ipython3",
   "version": "3.7.1"
  }
 },
 "nbformat": 4,
 "nbformat_minor": 2
}
