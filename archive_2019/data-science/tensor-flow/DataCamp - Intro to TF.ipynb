{
 "cells": [
  {
   "cell_type": "markdown",
   "metadata": {},
   "source": [
    "# DataCamp course on TensorFlow\n",
    "[Link](https://campus.datacamp.com/courses/introduction-to-tensorflow-in-python/63343?ex=1)"
   ]
  },
  {
   "cell_type": "code",
   "execution_count": 1,
   "metadata": {},
   "outputs": [],
   "source": [
    "import tensorflow as tf"
   ]
  },
  {
   "cell_type": "code",
   "execution_count": 30,
   "metadata": {},
   "outputs": [],
   "source": [
    "from tensorflow import fill, constant, ones_like, multiply\n",
    "from tensorflow import Variable\n",
    "from tensorflow import matmul, subtract, reduce_sum\n",
    "from tensorflow import ones, reshape\n",
    "from tensorflow import GradientTape"
   ]
  },
  {
   "cell_type": "code",
   "execution_count": 47,
   "metadata": {},
   "outputs": [],
   "source": [
    "import numpy as np\n",
    "import pandas as pd"
   ]
  },
  {
   "cell_type": "markdown",
   "metadata": {},
   "source": [
    "A constant is the simplest category of tensor. It can't be trained, which makes it a bad choice for a model's parameters, but a good choice for input data. Input data may be transformed after it is defined or loaded, but is typically not modified by the training process."
   ]
  },
  {
   "cell_type": "code",
   "execution_count": 11,
   "metadata": {},
   "outputs": [],
   "source": [
    "# Define a 3x4 tensor with all values equal to 9\n",
    "x = fill([3, 4], 9)\n",
    "\n",
    "# Define a tensor of ones with the same shape as x\n",
    "y = ones_like(x)\n",
    "\n",
    "# Define the one-dimensional vector, z\n",
    "z = constant([1, 2, 3, 4])"
   ]
  },
  {
   "cell_type": "code",
   "execution_count": 12,
   "metadata": {},
   "outputs": [
    {
     "name": "stdout",
     "output_type": "stream",
     "text": [
      "[1 2 3 4]\n"
     ]
    }
   ],
   "source": [
    "# Print z as a numpy array\n",
    "print(z.numpy())"
   ]
  },
  {
   "cell_type": "markdown",
   "metadata": {},
   "source": [
    "Unlike a constant, a variable's value can be modified. This will be quite useful when we want to train a model by updating its parameters. Constants can't be used for this purpose, so variables are the natural choice."
   ]
  },
  {
   "cell_type": "code",
   "execution_count": 13,
   "metadata": {},
   "outputs": [
    {
     "name": "stdout",
     "output_type": "stream",
     "text": [
      "<tf.Variable 'Variable:0' shape=(4,) dtype=int32, numpy=array([1, 2, 3, 4], dtype=int32)>\n",
      "[1 2 3 4]\n"
     ]
    }
   ],
   "source": [
    "# Define the 1-dimensional variable X\n",
    "X = Variable([1, 2, 3, 4])\n",
    "\n",
    "# Print the variable X\n",
    "print(X)\n",
    "\n",
    "# Convert X to a numpy array and assign it to Z\n",
    "Z = X.numpy()\n",
    "\n",
    "# Print Z\n",
    "print(Z)"
   ]
  },
  {
   "cell_type": "markdown",
   "metadata": {},
   "source": [
    "In later chapters, you will make use of constants and variables to train models. Your datasets will be represented as constant tensors of type tf.Tensor() or numpy arrays. The model's parameters will be represented by variables that are updated during computation."
   ]
  },
  {
   "cell_type": "markdown",
   "metadata": {},
   "source": [
    "Element-wise multiplication in TensorFlow is performed using two tensors with identical shapes. "
   ]
  },
  {
   "cell_type": "code",
   "execution_count": 14,
   "metadata": {},
   "outputs": [
    {
     "name": "stdout",
     "output_type": "stream",
     "text": [
      "[1 2 3 4]\n",
      "[[1 2 3]\n",
      " [1 6 4]]\n"
     ]
    }
   ],
   "source": [
    "# Define tensors A0 and B0 as constants\n",
    "A0 = constant([1, 2, 3, 4])\n",
    "B0 = constant([[1, 2, 3], [1, 6, 4]])\n",
    "\n",
    "# Define A1 and B1 to have the correct shape\n",
    "A1 = ones_like(A0)\n",
    "B1 = ones_like(B0)\n",
    "\n",
    "# Perform element-wise multiplication\n",
    "A2 = multiply(A0, A1)\n",
    "B2 = multiply(B0, B1)\n",
    "\n",
    "# Print the tensors A2 and B2\n",
    "print(A2.numpy())\n",
    "print(B2.numpy())"
   ]
  },
  {
   "cell_type": "markdown",
   "metadata": {},
   "source": [
    "In later chapters, you will learn to train linear regression models. This process will yield a vector of parameters that can be multiplied by the input data to generate a vector of predictions. I"
   ]
  },
  {
   "cell_type": "code",
   "execution_count": 16,
   "metadata": {},
   "outputs": [
    {
     "name": "stdout",
     "output_type": "stream",
     "text": [
      "[[ 1]\n",
      " [ 0]\n",
      " [-1]\n",
      " [-3]]\n"
     ]
    }
   ],
   "source": [
    "# Define X, b, and y as constants\n",
    "X = constant([[1, 2], [2, 1], [5, 8], [6, 10]])\n",
    "b = constant([[1], [2]])\n",
    "y = constant([[6], [4], [20], [23]])\n",
    "\n",
    "# Compute ypred using X and b\n",
    "ypred = matmul(X, b)\n",
    "\n",
    "# Compute and print the error as y - ypred\n",
    "error = subtract(y, ypred)\n",
    "print(error.numpy())"
   ]
  },
  {
   "cell_type": "markdown",
   "metadata": {},
   "source": [
    "You've been given a matrix, wealth. This contains the value of bond and stock wealth for five individuals. Note that this is given in thousands of dollars.\n",
    "\n",
    "The first row corresponds to bonds and the second corresponds to stocks. Each column gives the stock and bond wealth for a single individual. Use wealth, reduce_sum(), and .numpy() to determine which statements are correct about wealth"
   ]
  },
  {
   "cell_type": "code",
   "execution_count": 18,
   "metadata": {},
   "outputs": [],
   "source": [
    "wealth = constant([[11, 7, 4, 3, 25], [50, 2, 60, 0, 10]])"
   ]
  },
  {
   "cell_type": "code",
   "execution_count": 19,
   "metadata": {},
   "outputs": [
    {
     "data": {
      "text/plain": [
       "<tf.Tensor: id=57, shape=(2, 5), dtype=int32, numpy=\n",
       "array([[11,  7,  4,  3, 25],\n",
       "       [50,  2, 60,  0, 10]], dtype=int32)>"
      ]
     },
     "execution_count": 19,
     "metadata": {},
     "output_type": "execute_result"
    }
   ],
   "source": [
    "wealth"
   ]
  },
  {
   "cell_type": "code",
   "execution_count": 25,
   "metadata": {},
   "outputs": [
    {
     "data": {
      "text/plain": [
       "<tf.Tensor: id=67, shape=(5,), dtype=int32, numpy=array([61,  9, 64,  3, 35], dtype=int32)>"
      ]
     },
     "execution_count": 25,
     "metadata": {},
     "output_type": "execute_result"
    }
   ],
   "source": [
    "# Column sums\n",
    "reduce_sum(wealth, 0)"
   ]
  },
  {
   "cell_type": "code",
   "execution_count": 26,
   "metadata": {},
   "outputs": [
    {
     "data": {
      "text/plain": [
       "<tf.Tensor: id=70, shape=(2,), dtype=int32, numpy=array([ 50, 122], dtype=int32)>"
      ]
     },
     "execution_count": 26,
     "metadata": {},
     "output_type": "execute_result"
    }
   ],
   "source": [
    "# Row sums\n",
    "reduce_sum(wealth, 1)"
   ]
  },
  {
   "cell_type": "markdown",
   "metadata": {},
   "source": [
    "Combined, the 5 individuals hold $50,000 in bonds."
   ]
  },
  {
   "cell_type": "markdown",
   "metadata": {},
   "source": [
    "In many machine learning problems, you will need to reshape your input data"
   ]
  },
  {
   "cell_type": "code",
   "execution_count": 28,
   "metadata": {},
   "outputs": [],
   "source": [
    "# Define input image\n",
    "image = ones([16, 16])\n",
    "\n",
    "# Reshape image into a vector\n",
    "image_vector = reshape(image, (256, 1))\n",
    "\n",
    "# Reshape image into a higher dimensional tensor\n",
    "image_tensor = reshape(image, (4, 4, 4, 4))"
   ]
  },
  {
   "cell_type": "markdown",
   "metadata": {},
   "source": [
    "Adapt image by adding three color channels and then adjust image_vector and image_tensor accordingly.\n",
    "\n"
   ]
  },
  {
   "cell_type": "code",
   "execution_count": 29,
   "metadata": {},
   "outputs": [],
   "source": [
    "# Add three color channels\n",
    "image = ones([16, 16, 3])\n",
    "\n",
    "# Reshape image into a vector\n",
    "image_vector = reshape(image, (768, 1))\n",
    "\n",
    "# Reshape image into a higher dimensional tensor\n",
    "image_tensor = reshape(image, (4, 4, 4, 4, 3))"
   ]
  },
  {
   "cell_type": "markdown",
   "metadata": {},
   "source": [
    "### Optimizing with gradients\n",
    "You are given a loss function, y=x2, which you want to minimize. You can do this by identifying points where the slope is zero using the GradientTape() operation. Gradient descent selects an initial value for x and then iterates until it finds an x that corresponds to a gradient of zero.\n",
    "\n",
    "In practice, you will use a high level tensorflow operation to perform gradient descent automatically. In this exercise, however, you will simply guess that the minimum is at x=0 and then verify by computing the gradient."
   ]
  },
  {
   "cell_type": "code",
   "execution_count": 31,
   "metadata": {},
   "outputs": [
    {
     "name": "stdout",
     "output_type": "stream",
     "text": [
      "0.0\n"
     ]
    }
   ],
   "source": [
    "# Define x as a variable equal to 0.0\n",
    "x = Variable(0.0)\n",
    "\n",
    "# Define y using the multiply operation and apply Gradient Tape\n",
    "with GradientTape() as tape:\n",
    "    tape.watch(x)\n",
    "    y = multiply(x, x)\n",
    "\n",
    "# Compute the gradient of y with respect to x\n",
    "g = tape.gradient(y, x)\n",
    "\n",
    "# Compute and print the gradient using the numpy method\n",
    "print(g.numpy())"
   ]
  },
  {
   "cell_type": "markdown",
   "metadata": {},
   "source": [
    "### Performing graph-based computations\n",
    "You are given a black-and-white image of a letter, which has been encoded as a tensor, letter. You want to determine whether the letter is an X or a K. You don't have a trained neural network, but you do have a simple model, model, which can be used to classify letter.\n",
    "\n",
    "The 3x3 tensor, letter, and the 1x3 tensor, model, are available in the Python shell. You can determine whether letter is an X by multiplying letter by model, summing over the result, and then checking if it is equal to 1. As with more complicated models, such as neural networks, model is a collection of weights, arranged in a tenso"
   ]
  },
  {
   "cell_type": "code",
   "execution_count": 42,
   "metadata": {},
   "outputs": [],
   "source": [
    "model = constant([1., 0., -1.])\n",
    "letter = constant([[1., 0., 1.], [1., 1., 0.], [1., 0., 1.]])"
   ]
  },
  {
   "cell_type": "code",
   "execution_count": 43,
   "metadata": {},
   "outputs": [
    {
     "name": "stdout",
     "output_type": "stream",
     "text": [
      "[1.]\n"
     ]
    }
   ],
   "source": [
    "# Reshape model from a 1x3 to a 3x1 tensor\n",
    "model = reshape(model, (3, 1))\n",
    "\n",
    "# Multiply letter by model\n",
    "output = matmul(letter, model)\n",
    "\n",
    "# Sum over output and print prediction using the numpy method\n",
    "prediction = reduce_sum(output, 0)\n",
    "print(prediction.numpy())"
   ]
  },
  {
   "cell_type": "markdown",
   "metadata": {},
   "source": [
    "When performing operations in tensorflow, you will need to ensure that your choice of data types is valid. For example, let's say you're using the housing['price'] column from the King County dataset to define the constant tensor, price. You then want to multiply that tensor by a constant, scalar. Given the definitions below, how can you define price to ensure that scalar, price, and adjusted_price have the same data type?"
   ]
  },
  {
   "cell_type": "markdown",
   "metadata": {},
   "source": [
    "Before you can train a machine learning model, you must first import data. There are several valid ways to do this, but for now, we will use a simple one-liner from pandas: pd.read_csv(). Recall from the video that the first argument specifies the path or URL. All other arguments are optional.\n",
    "\n",
    "In this exercise, you will import the King County housing dataset, which we will use to train a linear model later in the chapter."
   ]
  },
  {
   "cell_type": "code",
   "execution_count": 54,
   "metadata": {},
   "outputs": [],
   "source": [
    "housing = pd.read_csv(\"https://assets.datacamp.com/production/repositories/3953/datasets/818cd72f8f36fb710e52074a41b0cfd322915eaa/kc_house_data.csv\")"
   ]
  },
  {
   "cell_type": "code",
   "execution_count": 55,
   "metadata": {},
   "outputs": [],
   "source": [
    "scalar = tf.constant(0.1, tf.float32)\n",
    "price = np.array(housing['price'], np.float32)\n",
    "adjusted_prices = tf.multiply(price, scalar)"
   ]
  },
  {
   "cell_type": "code",
   "execution_count": 57,
   "metadata": {},
   "outputs": [],
   "source": [
    "# This would also work\n",
    "price = tf.cast(housing['price'], tf.float32)"
   ]
  },
  {
   "cell_type": "code",
   "execution_count": 58,
   "metadata": {},
   "outputs": [
    {
     "name": "stdout",
     "output_type": "stream",
     "text": [
      "[221900. 538000. 180000. ... 402101. 400000. 325000.]\n",
      "tf.Tensor([False False False ... False False False], shape=(21613,), dtype=bool)\n"
     ]
    }
   ],
   "source": [
    "# Import numpy and tensorflow with their standard aliases\n",
    "import numpy as np\n",
    "import tensorflow as tf\n",
    "\n",
    "# Use a numpy array to define price as a 32-bit float\n",
    "price = np.array(housing['price'], np.float32)\n",
    "\n",
    "# Define waterfront as a Boolean using cast\n",
    "waterfront = tf.cast(housing['waterfront'], tf.bool)\n",
    "\n",
    "# Print price and waterfront\n",
    "print(price)\n",
    "print(waterfront)"
   ]
  },
  {
   "cell_type": "markdown",
   "metadata": {},
   "source": [
    "Notice that printing price yielded a numpy array; whereas printing waterfront yielded a tf.Tensor()"
   ]
  },
  {
   "cell_type": "markdown",
   "metadata": {},
   "source": [
    "https://campus.datacamp.com/courses/introduction-to-tensorflow-in-python/63343?ex=5"
   ]
  },
  {
   "cell_type": "code",
   "execution_count": null,
   "metadata": {},
   "outputs": [],
   "source": []
  }
 ],
 "metadata": {
  "kernelspec": {
   "display_name": "Python 3",
   "language": "python",
   "name": "python3"
  },
  "language_info": {
   "codemirror_mode": {
    "name": "ipython",
    "version": 3
   },
   "file_extension": ".py",
   "mimetype": "text/x-python",
   "name": "python",
   "nbconvert_exporter": "python",
   "pygments_lexer": "ipython3",
   "version": "3.7.2"
  }
 },
 "nbformat": 4,
 "nbformat_minor": 2
}
